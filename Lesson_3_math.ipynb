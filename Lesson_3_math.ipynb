{
 "cells": [
  {
   "cell_type": "markdown",
   "metadata": {},
   "source": [
    "1.Даны значения зарплат из выборки выпускников: 100, 80, 75, 77, 89, 33, 45, 25, 65, 17, 30, 24, 57, 55, 70, 75, 65, 84, 90, 150.\n",
    " Посчитать (желательно без использования статистических методов наподобие std, var, mean) среднее арифметическое,\n",
    " среднее квадратичное отклонение, смещенную и несмещенную оценки дисперсий для данной выборки."
   ]
  },
  {
   "cell_type": "code",
   "execution_count": 80,
   "metadata": {},
   "outputs": [],
   "source": [
    "import numpy as np\n",
    "import pandas as pd\n",
    "from math import factorial"
   ]
  },
  {
   "cell_type": "code",
   "execution_count": 81,
   "metadata": {},
   "outputs": [],
   "source": [
    "def combinations(n, k):\n",
    "    return int(factorial(n) / (factorial(k) * factorial(n - k)))"
   ]
  },
  {
   "cell_type": "code",
   "execution_count": 82,
   "metadata": {},
   "outputs": [],
   "source": [
    "nums = [100, 80, 75, 77, 89, 33, 45, 25, 65, 17, 30, 24, 57, 55, 70, 75, 65, 84, 90, 150]"
   ]
  },
  {
   "cell_type": "code",
   "execution_count": 83,
   "metadata": {},
   "outputs": [
    {
     "data": {
      "text/plain": [
       "65.3"
      ]
     },
     "execution_count": 83,
     "metadata": {},
     "output_type": "execute_result"
    }
   ],
   "source": [
    "# среднее арифметическое\n",
    "sum_num = 0\n",
    "for num in nums:\n",
    "    sum_num += num\n",
    "n = len(nums)\n",
    "m = sum_num/n\n",
    "m"
   ]
  },
  {
   "cell_type": "code",
   "execution_count": 84,
   "metadata": {},
   "outputs": [
    {
     "name": "stdout",
     "output_type": "stream",
     "text": [
      "30.823854398825596\n"
     ]
    }
   ],
   "source": [
    "# среднее квадратичное отклонение\n",
    "sum_num = 0\n",
    "for num in nums:\n",
    "  sum_num+= (num - m)**2\n",
    "print(np.sqrt(sum_num/n))"
   ]
  },
  {
   "cell_type": "code",
   "execution_count": 85,
   "metadata": {},
   "outputs": [
    {
     "name": "stdout",
     "output_type": "stream",
     "text": [
      "950.11\n"
     ]
    }
   ],
   "source": [
    "#смещенную оценку дисперсий для данной выборки\n",
    "sum_num = 0\n",
    "for num in nums:\n",
    "  sum_num+= (num - m)**2\n",
    "print(sum_num/n)"
   ]
  },
  {
   "cell_type": "code",
   "execution_count": 86,
   "metadata": {},
   "outputs": [
    {
     "name": "stdout",
     "output_type": "stream",
     "text": [
      "1000.1157894736842\n"
     ]
    }
   ],
   "source": [
    "#несмещенную оценку дисперсий для данной выборки\n",
    "sum_num = 0\n",
    "for num in nums:\n",
    "  sum_num+= (num - m)**2\n",
    "print(sum_num/(n-1))"
   ]
  },
  {
   "cell_type": "markdown",
   "metadata": {},
   "source": [
    "2.В первом ящике находится 8 мячей, из которых 5 - белые. Во втором ящике - 12 мячей, из которых 5 белых.\n",
    " Из первого ящика вытаскивают случайным образом два мяча, из второго - 4. Какова вероятность того, что 3 мяча белые?"
   ]
  },
  {
   "cell_type": "code",
   "execution_count": 87,
   "metadata": {},
   "outputs": [
    {
     "data": {
      "text/plain": [
       "0.27056277056277056"
      ]
     },
     "execution_count": 87,
     "metadata": {},
     "output_type": "execute_result"
    }
   ],
   "source": [
    "p1 = (combinations(5, 1) * combinations(3, 1) / combinations(8, 2)) * (combinations(5, 2) / combinations(12, 2))\n",
    "\n",
    "p2 = (combinations(5, 2) / combinations(8, 2)) * (combinations(5, 1) * combinations(7, 1) / combinations(12, 2))\n",
    "\n",
    "p = p1 + p2\n",
    "p"
   ]
  },
  {
   "cell_type": "markdown",
   "metadata": {},
   "source": [
    "3.На соревновании по биатлону один из трех спортсменов стреляет и попадает в мишень.\n",
    " Вероятность попадания для первого спортсмена равна 0.9, для второго — 0.8, для третьего — 0.6.\n",
    " Найти вероятность того, что выстрел произведен: a). первым спортсменом б). вторым спортсменом в). третьим спортсменом."
   ]
  },
  {
   "cell_type": "code",
   "execution_count": 88,
   "metadata": {},
   "outputs": [
    {
     "name": "stdout",
     "output_type": "stream",
     "text": [
      "вероятность того, что выстрел произведен: первым спортсменом = 0.391304347826087; вторым спортсменом = 0.3478260869565218; третьим спортсменом = 0.2608695652173913.\n"
     ]
    }
   ],
   "source": [
    "pb1 = 1/3\n",
    "pb2 = 1/3\n",
    "pb3 = 1/3\n",
    "\n",
    "pa = pb1*0.9 + pb2*0.8 +pb3*0.6\n",
    "\n",
    "pb1a = pb1*0.9/pa\n",
    "pb2a = pb1*0.8/pa\n",
    "pb3a = pb1*0.6/pa\n",
    "\n",
    "print(f'вероятность того, что выстрел произведен: первым спортсменом = {str(pb1a)}; вторым спортсменом = {str(pb2a)}; третьим спортсменом = {str(pb3a)}.')"
   ]
  },
  {
   "cell_type": "markdown",
   "metadata": {},
   "source": [
    "4.В университет на факультеты A и B поступило равное количество студентов, а на факультет C студентов поступило столько же,\n",
    " сколько на A и B вместе. Вероятность того, что студент факультета A сдаст первую сессию, равна 0.8.\n",
    " Для студента факультета B эта вероятность равна 0.7, а для студента факультета C - 0.9. Студент сдал первую сессию.\n",
    " Какова вероятность, что он учится: a). на факультете A б). на факультете B в). на факультете C?"
   ]
  },
  {
   "cell_type": "code",
   "execution_count": 89,
   "metadata": {},
   "outputs": [
    {
     "name": "stdout",
     "output_type": "stream",
     "text": [
      ", что он учится: на факультете A = 0.3333333333333333; на факультете В = 0.29166666666666663; на факультете С = 0.37499999999999994.\n"
     ]
    }
   ],
   "source": [
    "pb1 = 1/3\n",
    "pb2 = 1/3\n",
    "pb3 = 1/3\n",
    "\n",
    "pa = pb1*0.8 + pb2*0.7 +pb3*0.9\n",
    "\n",
    "pb1a = pb1*0.8/pa\n",
    "pb2a = pb1*0.7/pa\n",
    "pb3a = pb1*0.9/pa\n",
    "\n",
    "print(f', что он учится: на факультете A = {str(pb1a)}; на факультете В = {str(pb2a)}; на факультете С = {str(pb3a)}.')"
   ]
  },
  {
   "cell_type": "markdown",
   "metadata": {},
   "source": [
    "5.Устройство состоит из трех деталей. Для первой детали вероятность выйти из строя в первый месяц равна 0.1,\n",
    " для второй - 0.2, для третьей - 0.25. Какова вероятность того, что в первый месяц выйдут из строя:\n",
    " а). все детали б). только две детали в). хотя бы одна деталь г). от одной до двух деталей?"
   ]
  },
  {
   "cell_type": "code",
   "execution_count": 90,
   "metadata": {},
   "outputs": [
    {
     "data": {
      "text/plain": [
       "0.00018518518518518518"
      ]
     },
     "execution_count": 90,
     "metadata": {},
     "output_type": "execute_result"
    }
   ],
   "source": [
    "pb1 = 1/3\n",
    "pb2 = 1/3\n",
    "pb3 = 1/3\n",
    "\n",
    "# все детали выйдут из строя\n",
    "pvar1 = pb1*0.1 * pb2*0.2 * pb3*0.25\n",
    "pvar1\n",
    "\n"
   ]
  },
  {
   "cell_type": "code",
   "execution_count": 91,
   "metadata": {},
   "outputs": [
    {
     "data": {
      "text/plain": [
       "0.15"
      ]
     },
     "execution_count": 91,
     "metadata": {},
     "output_type": "execute_result"
    }
   ],
   "source": [
    "# только две детали выйдут из строя\n",
    "pvar2 = pb1*0 + pb2*0.2 +pb3*0.25\n",
    "pvar2"
   ]
  },
  {
   "cell_type": "code",
   "execution_count": 92,
   "metadata": {},
   "outputs": [
    {
     "data": {
      "text/plain": [
       "0.08333333333333333"
      ]
     },
     "execution_count": 92,
     "metadata": {},
     "output_type": "execute_result"
    }
   ],
   "source": [
    "# хотя бы одна деталь выйдет из строя\n",
    "pvar3 = pb1*0 + pb2*0 +pb3*0.25\n",
    "pvar3"
   ]
  },
  {
   "cell_type": "code",
   "execution_count": 93,
   "metadata": {},
   "outputs": [
    {
     "data": {
      "text/plain": [
       "0.5212121212121211"
      ]
     },
     "execution_count": 93,
     "metadata": {},
     "output_type": "execute_result"
    }
   ],
   "source": [
    "#от одной до двух деталей\n",
    "pvar4 = pb2*0.2 +pb3*0.25 / (pb1*0.1 + pb2*0.2 +pb3*0.25)\n",
    "pvar4"
   ]
  }
 ],
 "metadata": {
  "kernelspec": {
   "display_name": "Python 3",
   "language": "python",
   "name": "python3"
  },
  "language_info": {
   "codemirror_mode": {
    "name": "ipython",
    "version": 3
   },
   "file_extension": ".py",
   "mimetype": "text/x-python",
   "name": "python",
   "nbconvert_exporter": "python",
   "pygments_lexer": "ipython3",
   "version": "3.7.6"
  }
 },
 "nbformat": 4,
 "nbformat_minor": 4
}

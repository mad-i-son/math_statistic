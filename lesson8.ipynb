{
 "cells": [
  {
   "cell_type": "markdown",
   "metadata": {},
   "source": [
    "Провести дисперсионный анализ для определения того, есть ли различия среднего роста среди взрослых футболистов, хоккеистов и штангистов. Даны значения роста в трех группах случайно выбранных спортсменов: Футболисты: 173, 175, 180, 178, 177, 185, 183, 182. Хоккеисты: 177, 179, 180, 188, 177, 172, 171, 184, 180. Штангисты: 172, 173, 169, 177, 166, 180, 178, 177, 172, 166, 170."
   ]
  },
  {
   "cell_type": "code",
   "execution_count": 28,
   "metadata": {},
   "outputs": [],
   "source": [
    "import numpy as np"
   ]
  },
  {
   "cell_type": "code",
   "execution_count": 29,
   "metadata": {},
   "outputs": [
    {
     "name": "stdout",
     "output_type": "stream",
     "text": [
      "28\n"
     ]
    }
   ],
   "source": [
    "n1 = 8\n",
    "n2 = 9\n",
    "n3 = 11\n",
    "n = n1 + n2 + n3\n",
    "print(n)"
   ]
  },
  {
   "cell_type": "code",
   "execution_count": 30,
   "metadata": {},
   "outputs": [],
   "source": [
    "# Всего три группы:\n",
    "k = 3"
   ]
  },
  {
   "cell_type": "code",
   "execution_count": 31,
   "metadata": {},
   "outputs": [],
   "source": [
    "# Рост Футболисты:\n",
    "y1 = np.array([173, 175, 180, 178, 177, 185, 183, 182], dtype=np.float64)\n",
    "\n",
    "# Рост Хоккеисты:\n",
    "y2 = np.array([177, 179, 180, 188, 177, 172, 171, 184, 180], dtype=np.float64)\n",
    "\n",
    "# Рост Штангисты:\n",
    "y3 = np.array([172, 173, 169, 177, 166, 180, 178, 177, 172, 166, 170], dtype=np.float64)"
   ]
  },
  {
   "cell_type": "code",
   "execution_count": 32,
   "metadata": {},
   "outputs": [
    {
     "name": "stdout",
     "output_type": "stream",
     "text": [
      "179.125\n"
     ]
    }
   ],
   "source": [
    "# Проведем однофакторный дисперсионный анализ. Сначала найдем средние зарплаты для каждой группы спортсменов:\n",
    "y1_mean = np.mean(y1)\n",
    "print(y1_mean)"
   ]
  },
  {
   "cell_type": "code",
   "execution_count": 33,
   "metadata": {},
   "outputs": [
    {
     "name": "stdout",
     "output_type": "stream",
     "text": [
      "178.66666666666666\n"
     ]
    }
   ],
   "source": [
    "y2_mean = np.mean(y2)\n",
    "print(y2_mean)"
   ]
  },
  {
   "cell_type": "code",
   "execution_count": 34,
   "metadata": {},
   "outputs": [
    {
     "name": "stdout",
     "output_type": "stream",
     "text": [
      "172.72727272727272\n"
     ]
    }
   ],
   "source": [
    "y3_mean = np.mean(y3)\n",
    "print(y3_mean)"
   ]
  },
  {
   "cell_type": "markdown",
   "metadata": {},
   "source": [
    "Видно, что средний рост разнится. Установим, что это отличие статистически значимо. Для этого сначала соберем\n",
    "\n",
    "все значения заработных платроста в один массив:"
   ]
  },
  {
   "cell_type": "code",
   "execution_count": 35,
   "metadata": {},
   "outputs": [
    {
     "data": {
      "text/plain": [
       "array([173., 175., 180., 178., 177., 185., 183., 182., 177., 179., 180.,\n",
       "       188., 177., 172., 171., 184., 180., 172., 173., 169., 177., 166.,\n",
       "       180., 178., 177., 172., 166., 170.])"
      ]
     },
     "execution_count": 35,
     "metadata": {},
     "output_type": "execute_result"
    }
   ],
   "source": [
    "y_all = np.concatenate([y1, y2, y3])\n",
    "y_all"
   ]
  },
  {
   "cell_type": "code",
   "execution_count": 36,
   "metadata": {},
   "outputs": [
    {
     "name": "stdout",
     "output_type": "stream",
     "text": [
      "176.46428571428572\n"
     ]
    }
   ],
   "source": [
    "# Найдем среднее значение роста по всем значениям:\n",
    "y_mean = np.mean(y_all)\n",
    "print(y_mean)"
   ]
  },
  {
   "cell_type": "markdown",
   "metadata": {},
   "source": [
    "Найдем $S^2$ — сумму квадратов отклонений наблюдений от общего среднего:"
   ]
  },
  {
   "cell_type": "code",
   "execution_count": 37,
   "metadata": {},
   "outputs": [
    {
     "data": {
      "text/plain": [
       "830.9642857142854"
      ]
     },
     "execution_count": 37,
     "metadata": {},
     "output_type": "execute_result"
    }
   ],
   "source": [
    "s2 = np.sum((y_all - y_mean)**2)\n",
    "s2"
   ]
  },
  {
   "cell_type": "markdown",
   "metadata": {},
   "source": [
    "Найдем $S^2_F$ - сумму квадратов отклонений средних групповых значений от общего среднего:"
   ]
  },
  {
   "cell_type": "code",
   "execution_count": 38,
   "metadata": {},
   "outputs": [
    {
     "data": {
      "text/plain": [
       "253.9074675324678"
      ]
     },
     "execution_count": 38,
     "metadata": {},
     "output_type": "execute_result"
    }
   ],
   "source": [
    "s2_f = ((y1_mean - y_mean)**2) * n1 + ((y2_mean - y_mean)**2) * n2 + ((y3_mean - y_mean)**2) * n3\n",
    "s2_f"
   ]
  },
  {
   "cell_type": "markdown",
   "metadata": {},
   "source": [
    "Найдем $S^2_{ост}$ — остаточную сумму квадратов отклонений:"
   ]
  },
  {
   "cell_type": "code",
   "execution_count": 39,
   "metadata": {},
   "outputs": [
    {
     "data": {
      "text/plain": [
       "118.875"
      ]
     },
     "execution_count": 39,
     "metadata": {},
     "output_type": "execute_result"
    }
   ],
   "source": [
    "s2_residual_y1 = ((y1[0] - y1_mean)**2) + ((y1[1] - y1_mean)**2) + ((y1[2] - y1_mean)**2) + ((y1[3] - y1_mean)**2) + ((y1[4] - y1_mean)**2) + ((y1[5] - y1_mean)**2) + ((y1[6] - y1_mean)**2) + ((y1[7] - y1_mean)**2)\n",
    "s2_residual_y1"
   ]
  },
  {
   "cell_type": "code",
   "execution_count": 40,
   "metadata": {},
   "outputs": [
    {
     "data": {
      "text/plain": [
       "227.99999999999997"
      ]
     },
     "execution_count": 40,
     "metadata": {},
     "output_type": "execute_result"
    }
   ],
   "source": [
    "s2_residual_y2 = ((y2[0] - y2_mean)**2) + ((y2[1] - y2_mean)**2) + ((y2[2] - y2_mean)**2) + ((y2[3] - y2_mean)**2) + ((y2[4] - y2_mean)**2) + ((y2[5] - y2_mean)**2) + ((y2[6] - y2_mean)**2) + ((y2[7] - y2_mean)**2) + ((y2[8] - y2_mean)**2)\n",
    "s2_residual_y2"
   ]
  },
  {
   "cell_type": "code",
   "execution_count": 41,
   "metadata": {},
   "outputs": [
    {
     "data": {
      "text/plain": [
       "230.18181818181816"
      ]
     },
     "execution_count": 41,
     "metadata": {},
     "output_type": "execute_result"
    }
   ],
   "source": [
    "s2_residual_y3 = ((y3[0] - y3_mean)**2) + ((y3[1] - y3_mean)**2) + ((y3[2] - y3_mean)**2) + ((y3[3] - y3_mean)**2) + ((y3[4] - y3_mean)**2) + ((y3[5] - y3_mean)**2) + ((y3[6] - y3_mean)**2) + ((y3[7] - y3_mean)**2) + ((y3[8] - y3_mean)**2) + ((y3[9] - y3_mean)**2) + ((y3[10] - y3_mean)**2)\n",
    "s2_residual_y3"
   ]
  },
  {
   "cell_type": "code",
   "execution_count": 42,
   "metadata": {},
   "outputs": [
    {
     "data": {
      "text/plain": [
       "577.0568181818181"
      ]
     },
     "execution_count": 42,
     "metadata": {},
     "output_type": "execute_result"
    }
   ],
   "source": [
    "s2_residual = s2_residual_y1 + s2_residual_y2 + s2_residual_y3\n",
    "s2_residual"
   ]
  },
  {
   "cell_type": "markdown",
   "metadata": {},
   "source": [
    "Удостоверимся, что соблюдается равенство $S^2 = S_F^2 + S_{ост}^2$:"
   ]
  },
  {
   "cell_type": "code",
   "execution_count": 43,
   "metadata": {},
   "outputs": [
    {
     "name": "stdout",
     "output_type": "stream",
     "text": [
      "830.9642857142854\n",
      "830.9642857142859\n"
     ]
    }
   ],
   "source": [
    "print(s2)\n",
    "print(s2_f + s2_residual)"
   ]
  },
  {
   "cell_type": "markdown",
   "metadata": {},
   "source": [
    "Найдем общую дисперсию:"
   ]
  },
  {
   "cell_type": "code",
   "execution_count": 44,
   "metadata": {},
   "outputs": [
    {
     "data": {
      "text/plain": [
       "30.776455026455015"
      ]
     },
     "execution_count": 44,
     "metadata": {},
     "output_type": "execute_result"
    }
   ],
   "source": [
    "sigma2_general = s2 / (n - 1)\n",
    "sigma2_general"
   ]
  },
  {
   "cell_type": "markdown",
   "metadata": {},
   "source": [
    "Найдем факторную дисперсию:"
   ]
  },
  {
   "cell_type": "code",
   "execution_count": 45,
   "metadata": {},
   "outputs": [
    {
     "data": {
      "text/plain": [
       "126.9537337662339"
      ]
     },
     "execution_count": 45,
     "metadata": {},
     "output_type": "execute_result"
    }
   ],
   "source": [
    "sigma2_f = s2_f / (k - 1)\n",
    "sigma2_f"
   ]
  },
  {
   "cell_type": "markdown",
   "metadata": {},
   "source": [
    "Найдем остаточную дисперсию:"
   ]
  },
  {
   "cell_type": "code",
   "execution_count": 46,
   "metadata": {},
   "outputs": [
    {
     "data": {
      "text/plain": [
       "23.082272727272724"
      ]
     },
     "execution_count": 46,
     "metadata": {},
     "output_type": "execute_result"
    }
   ],
   "source": [
    "sigma2_residual = s2_residual / (n - k)\n",
    "sigma2_residual"
   ]
  },
  {
   "cell_type": "markdown",
   "metadata": {},
   "source": [
    "Вычислим $F_H$:"
   ]
  },
  {
   "cell_type": "code",
   "execution_count": 47,
   "metadata": {},
   "outputs": [
    {
     "data": {
      "text/plain": [
       "5.500053450812599"
      ]
     },
     "execution_count": 47,
     "metadata": {},
     "output_type": "execute_result"
    }
   ],
   "source": [
    "F_h = sigma2_f / sigma2_residual\n",
    "F_h"
   ]
  },
  {
   "cell_type": "markdown",
   "metadata": {},
   "source": [
    "Найдем значение $F_{крит}$ в таблице критических точек распределения Фишера-Снедекора для заданного уровня значимости $\\alpha = 0.05$ и двух степеней свободы: \n",
    "\n",
    "$df_{межд} = k - 1 = 3 - 1 = 2$ и $df_{внутр} = n - k = 28 - 3 = 25$."
   ]
  },
  {
   "cell_type": "markdown",
   "metadata": {},
   "source": [
    "Для данных значений $F_{крит} = 3.38$. Так как $F_H > F_{крит}$, различие средних зарплат в трех группах статистически значимо."
   ]
  },
  {
   "cell_type": "markdown",
   "metadata": {},
   "source": [
    "Также вычислим эмпирическое корреляционное отношение $\\eta^2$:"
   ]
  },
  {
   "cell_type": "code",
   "execution_count": 48,
   "metadata": {},
   "outputs": [
    {
     "data": {
      "text/plain": [
       "0.30555761769498"
      ]
     },
     "execution_count": 48,
     "metadata": {},
     "output_type": "execute_result"
    }
   ],
   "source": [
    "eta2 = s2_f / s2\n",
    "eta2"
   ]
  },
  {
   "cell_type": "markdown",
   "metadata": {},
   "source": [
    "Значение $\\eta^2$ близко к 1 — значит,  различие средних зарплат в трех группах являются статистически значимым."
   ]
  }
 ],
 "metadata": {
  "kernelspec": {
   "display_name": "Python 3",
   "language": "python",
   "name": "python3"
  },
  "language_info": {
   "codemirror_mode": {
    "name": "ipython",
    "version": 3
   },
   "file_extension": ".py",
   "mimetype": "text/x-python",
   "name": "python",
   "nbconvert_exporter": "python",
   "pygments_lexer": "ipython3",
   "version": "3.7.6"
  }
 },
 "nbformat": 4,
 "nbformat_minor": 4
}
